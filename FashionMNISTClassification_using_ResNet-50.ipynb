{
 "cells": [
  {
   "cell_type": "markdown",
   "metadata": {},
   "source": [
    "# Fashion MNIST Classification using ResNet-50\n",
    "\n",
    "## Project Overview\n",
    "This project focuses on classifying images from the Fashion MNIST dataset using a pre-trained ResNet-50 model. The first four layers of the ResNet-50 model are made trainable to fine-tune the network for better performance on the Fashion MNIST dataset. Additionally, two fully connected layers are added to the model. Parallel computing is enabled to speed up the training process.\n",
    "\n",
    "## Steps Involved\n",
    "\n",
    "1. **Data Preparation**\n",
    "   - Load the Fashion MNIST dataset.\n",
    "   - Preprocess the images (normalization, resizing, etc.).\n",
    "\n",
    "2. **Model Setup**\n",
    "   - Load the pre-trained ResNet-50 model.\n",
    "   - Modify the model to make the first four layers trainable.\n",
    "   - Add two fully connected layers:\n",
    "     - The first layer takes 2048 inputs and outputs 512.\n",
    "     - The second layer takes 512 inputs and outputs the number of classes.\n",
    "\n",
    "3. **Training**\n",
    "   - Enable parallel computing to utilize multiple GPUs/CPUs.\n",
    "   - Compile the model with appropriate loss function and optimizer.\n",
    "   - Train the model on the Fashion MNIST dataset.\n",
    "\n",
    "4. **Saving Model**\n",
    "   - Saving Model Parameters and State in PyTorch."
   ]
  },
  {
   "cell_type": "code",
   "execution_count": null,
   "metadata": {},
   "outputs": [],
   "source": [
    "import matplotlib.pyplot as plt\n",
    "import numpy as np\n",
    "from tqdm import tqdm\n",
    "import warnings\n",
    "warnings.filterwarnings('ignore')"
   ]
  },
  {
   "cell_type": "code",
   "execution_count": null,
   "metadata": {},
   "outputs": [
    {
     "data": {
      "text/plain": [
       "<torch._C.Generator at 0x1ca32ac2790>"
      ]
     },
     "execution_count": 2,
     "metadata": {},
     "output_type": "execute_result"
    }
   ],
   "source": [
    "import torch\n",
    "import torchvision.models as models\n",
    "from torch.utils.data import Dataset, DataLoader, random_split\n",
    "from torch.optim import lr_scheduler\n",
    "from torchvision import transforms\n",
    "import torch.nn as nn\n",
    "torch.manual_seed(0)"
   ]
  },
  {
   "cell_type": "markdown",
   "metadata": {},
   "source": [
    "### Plotting Loss and Accuracy\n",
    "\n",
    "#### Function Overview\n",
    "The `plot_stuff` function is designed to plot two metrics, total loss and accuracy, on the same graph but with different y-axes. This allows for a clear visualization of how both metrics change over iterations during the training process.\n",
    "\n",
    "#### Code Explanation:\n",
    "\n",
    "1. **Creating the Figure and Axes:**\n",
    "    ```python\n",
    "        fig, ax1 = plt.subplots()\n",
    "    ```\n",
    "    -  This line creates a figure and a set of subplots. `ax1` is the primary y-axis.\n",
    "\n",
    "2. **Plotting Total Loss:**\n",
    "\n",
    "    - `color = 'tab:red'`: Sets the color for the total loss plot to red.\n",
    "    - `ax1.plot(COST, color=color)`: Plots the `COST` data on the primary y-axis (`ax1`) with the specified red color.\n",
    "    - `ax1.set_xlabel('Iteration', color=color)`: Labels the x-axis as 'Iteration' and sets the label color to red.\n",
    "    - `ax1.set_ylabel('total loss', color=color)`: Labels the primary y-axis as 'total loss' and sets the label color to red.\n",
    "    - `ax1.tick_params(axis='y', color=color)`: Sets the color of the y-axis ticks to red.\n",
    "\n",
    "3. **Plotting Total Accuracy:**\n",
    "    - `ax2 = ax1.twinx()`: Creates a secondary y-axis (`ax2`) that shares the same x-axis as `ax1`.\n",
    "    - `color = 'tab:blue'`: Sets the color for the accuracy plot to blue.\n",
    "    - `ax2.plot(ACC, color=color)`: Plots the `ACC` data on the secondary y-axis (`ax2`) with the specified blue color.\n",
    "    - `ax2.set_ylabel('accuracy', color=color)`: Labels the secondary y-axis as 'accuracy' and sets the label color to blue.\n",
    "    - `ax2.tick_params(axis='y', color=color)`: Sets the color of the secondary y-axis ticks to blue.\n",
    "\n",
    "4. **Adjusting Layout and Displaying the Plot:**\n",
    "    - `fig.tight_layout()`: Adjusts the layout of the figure to prevent overlap between elements, ensuring a clean and readable plot.\n",
    "    - `plt.show()`: Displays the plot.\n"
   ]
  },
  {
   "cell_type": "code",
   "execution_count": null,
   "metadata": {},
   "outputs": [],
   "source": [
    "def plot_stuff(COST,ACC):    \n",
    "    fig, ax1 = plt.subplots()\n",
    "\n",
    "    color = 'tab:red'\n",
    "    ax1.plot(COST, color = color)\n",
    "    ax1.set_xlabel('Iteration', color = color)\n",
    "    ax1.set_ylabel('total loss', color = color)\n",
    "    ax1.tick_params(axis = 'y', color = color)\n",
    "    \n",
    "    ax2 = ax1.twinx()  \n",
    "    color = 'tab:blue'\n",
    "    ax2.plot(ACC, color = color)\n",
    "    ax2.set_ylabel('accuracy', color = color)\n",
    "    ax2.tick_params(axis = 'y', color = color)\n",
    "    fig.tight_layout()\n",
    "    \n",
    "    plt.show()"
   ]
  },
  {
   "cell_type": "markdown",
   "metadata": {},
   "source": [
    "### Displaying an Image Tensor\n",
    "\n",
    "#### Function Overview\n",
    "The `imshow_` function is designed to display an image tensor using Matplotlib. It handles the conversion of the tensor to a NumPy array, applies normalization, and then displays the image.\n",
    "\n",
    "#### Code Explanation\n",
    "\n",
    "1. **Function Definition and Docstring:**\n",
    "    - `def imshow_(inp, title=None)`: Defines a function named imshow_ that takes an input tensor inp and an optional title.\n",
    "\n",
    "2. **Permuting and Converting to NumPy Array:**\n",
    "    - `inp.permute(1, 2, 0)`: Changes the order of dimensions of the tensor from (C, H, W) to (H, W, C) to match the format expected by Matplotlib.\n",
    "    - `numpy()`: Converts the tensor to a NumPy array.\n",
    "    - `print(inp.shape)`: Prints the shape of the NumPy array for debugging purposes.\n",
    "\n",
    "3. **Normalization:**\n",
    "    - `mean = np.array([0.485, 0.456, 0.406])`: Defines the mean used for normalization.\n",
    "    - `std = np.array([0.229, 0.224, 0.225])`: Defines the standard deviation used for normalization.\n",
    "    - `inp = std * inp + mean`: Applies the normalization to the image.\n",
    "    - `inp = np.clip(inp, 0, 1)`: Clips the values to be between 0 and 1 to ensure valid image pixel values.\n",
    "\n",
    "4. **Displaying the Image:**\n",
    "    - `plt.imshow(inp)`: Displays the image using Matplotlib.\n",
    "    - `if title is not None: plt.title(title)`: Sets the title of the image if provided.\n",
    "    - `plt.pause(0.001)`: Pauses the plot for a brief moment to ensure it updates.\n",
    "    - `plt.show()`: Displays the plot."
   ]
  },
  {
   "cell_type": "code",
   "execution_count": 6,
   "metadata": {},
   "outputs": [],
   "source": [
    "def imshow_(inp, title=None):\n",
    "    \"\"\"Imshow for Tensor.\"\"\"\n",
    "    inp = inp .permute(1, 2, 0).numpy() \n",
    "    print(inp.shape)\n",
    "    mean = np.array([0.485, 0.456, 0.406])\n",
    "    std = np.array([0.229, 0.224, 0.225])\n",
    "    inp = std * inp + mean\n",
    "    inp = np.clip(inp, 0, 1)\n",
    "\n",
    "    plt.imshow(inp)\n",
    "    if title is not None:\n",
    "        plt.title(title)\n",
    "    plt.pause(0.001)  \n",
    "    plt.show()"
   ]
  },
  {
   "cell_type": "markdown",
   "metadata": {},
   "source": [
    "### Model Prediction and Result Comparison\n",
    "\n",
    "#### Function Overview\n",
    "The `result` function takes a model, an input tensor `x`, and the true label `y`. It predicts the label using the model and compares it with the true label, printing the result if the prediction is incorrect.\n",
    "\n",
    "#### Code Explanation\n",
    "\n",
    "1. **Function Definition and Comment**:\n",
    "    - `def result(model, x, y):`: Defines a function named `result` that takes three arguments: `model`, `x`, and `y`.\n",
    "    - `# x, y = sample`: A comment indicating that `x` and `y` are a sample input and its corresponding label.\n",
    "\n",
    "2. **Model Prediction**:\n",
    "    - `x.unsqueeze_(0)`: Adds a batch dimension to the input tensor `x`, making it compatible with the model's expected input shape.\n",
    "    - `z = model(x.unsqueeze_(0))`: Passes the input tensor through the model to get the output `z`.\n",
    "\n",
    "3. **Finding the Predicted Label**:\n",
    "    - `torch.max(z.data, 1)`: Computes the maximum value along the second dimension (class dimension) of the output tensor `z`. It returns a tuple where the first element is the maximum value and the second element is the index of the maximum value (predicted class).\n",
    "    - `_, yhat`: Unpacks the tuple, ignoring the maximum value and keeping the index of the maximum value as `yhat`.\n",
    "\n",
    "4. **Comparing Prediction with True Label**:\n",
    "    - `if yhat.item() != y`: Checks if the predicted label `yhat` is not equal to the true label `y`.\n",
    "    - `print(f\"predicted: {str(yhat.item())} actual: {y}\")`: Prints the predicted label and the true label if they do not match.\n"
   ]
  },
  {
   "cell_type": "code",
   "execution_count": 7,
   "metadata": {},
   "outputs": [],
   "source": [
    "def result(model,x,y):\n",
    "    #x,y=sample\n",
    "    z = model(x.unsqueeze_(0))\n",
    "    _, yhat = torch.max(z.data, 1)\n",
    "    \n",
    "    if yhat.item() != y:\n",
    "        print(f\"predicted: {str(yhat.item())} actual: {y}\")"
   ]
  },
  {
   "cell_type": "markdown",
   "metadata": {},
   "source": [
    "### Setting the Device for PyTorch:\n",
    "\n",
    "**Explanation:**\n",
    "-    `torch.device(\"cuda:0\" if torch.cuda.is_available() else \"cpu\")`: This line checks if a CUDA-enabled GPU is available. If it is, it sets the device to the first GPU `(\"cuda:0\")`. If not, it defaults to the CPU (`\"cpu\"`).\n",
    "-    `torch.cuda.is_available()`: Returns True if a CUDA-enabled GPU is available, otherwise False."
   ]
  },
  {
   "cell_type": "code",
   "execution_count": 8,
   "metadata": {},
   "outputs": [
    {
     "name": "stdout",
     "output_type": "stream",
     "text": [
      "the device type is cpu\n"
     ]
    }
   ],
   "source": [
    "device = torch.device(\"cuda:0\" if torch.cuda.is_available() else \"cpu\")\n",
    "print(\"the device type is\", device)\n"
   ]
  },
  {
   "cell_type": "markdown",
   "metadata": {},
   "source": [
    "## 1. Data Preparation:\n",
    "\n",
    "### Loading and Transforming the FashionMNIST Dataset\n",
    "\n",
    "#### Code Explanation\n",
    "\n",
    "1.  **Setting the Image Size**:\n",
    "    - `IMAGE_SIZE = 16`: Defines a constant `IMAGE_SIZE` with a value of 16. This will be used to resize the images to 16x16 pixels.\n",
    "\n",
    "3. **Composing the Transformations**:\n",
    "    - `transforms.Compose([...])`: Creates a composition of several image transformations.\n",
    "    - `transforms.Resize((IMAGE_SIZE, IMAGE_SIZE))`: Resizes the images to 16x16 pixels.\n",
    "    - `transforms.ToTensor()`: Converts the images to PyTorch tensors.\n",
    "    - `transforms.Normalize((0.5,), (0.5,))`: Normalizes the images with a mean of 0.5 and a standard deviation of 0.5.\n",
    "\n",
    "4. **Loading the Training Dataset**:\n",
    "    - `dsets.FashionMNIST(...)`: Loads the FashionMNIST dataset.\n",
    "    - `root='./data'`: Specifies the directory where the dataset will be stored.\n",
    "    - `train=True`: Indicates that this is the training set.\n",
    "    - `download=True`: Downloads the dataset if it is not already present in the specified directory.\n",
    "    - `transform=composed`: Applies the composed transformations to the dataset.\n",
    "\n",
    "5. **Loading the Validation Dataset**:\n",
    "    - `train=False`: Indicates that this is the validation (or test) set.\n",
    "    - The other parameters are the same as for the training set.\n"
   ]
  },
  {
   "cell_type": "code",
   "execution_count": 9,
   "metadata": {},
   "outputs": [],
   "source": [
    "import torchvision.datasets as dsets\n",
    "\n",
    "IMAGE_SIZE = 16\n",
    "composed = transforms.Compose([transforms.Resize((IMAGE_SIZE, IMAGE_SIZE)), transforms.ToTensor(), transforms.Normalize((0.5,), (0.5,))])\n",
    "\n",
    "train_set = dsets.FashionMNIST(root='./data', train=True, download=True, transform=composed)\n",
    "val_set = dsets.FashionMNIST(root='./data', train=False, download=True, transform=composed)"
   ]
  },
  {
   "cell_type": "code",
   "execution_count": null,
   "metadata": {},
   "outputs": [],
   "source": [
    "n_epochs = 25\n",
    "batch_size = 500\n",
    "\n",
    "lr = 0.0001\n",
    "\n",
    "momentum = 0.8\n",
    "\n",
    "lr_scheduler = True\n",
    "base_lr = 0.001\n",
    "max_lr = 0.01"
   ]
  },
  {
   "cell_type": "markdown",
   "metadata": {},
   "source": [
    "### Building training function of Model with PyTorch:\n",
    "\n",
    "#### Function Overview\n",
    "The `train_model` function trains a PyTorch model using the provided training and validation data loaders, criterion, optimizer, and number of epochs. It tracks the loss and accuracy during training and validation, and saves the best model weights based on validation accuracy.\n",
    "\n",
    "#### Code Explanation\n",
    "\n",
    "1. **Function Definition and Initialization**\n",
    "\n",
    "    - `import copy`: Imports the `copy` module to allow deep copying of the model's state dictionary.\n",
    "    - `def train_model(model, train_loader, validation_loader, criterion, optimizer, n_epochs, print_=True):`: Defines the `train_model` function with the specified parameters.\n",
    "    - `loss_list = []`: Initializes an empty list to store the loss values for each epoch.\n",
    "    - `accuracy_list = []`: Initializes an empty list to store the accuracy values for each epoch.\n",
    "    - `correct = 0`: Initializes a variable to count the number of correct predictions.\n",
    "    - `n_test = len(val_set)`: Calculates the number of samples in the validation set.\n",
    "    - `accuracy_best = 0`: Initializes a variable to store the best validation accuracy.\n",
    "    - `best_model_wts = copy.deepcopy(model.state_dict())`: Creates a deep copy of the model's initial state dictionary to save the best model weights.\n",
    "2. **Training Loop: Epoch Loop and Batch Loop:**\n",
    "    - `print(\"The first epoch should take several minutes\")`: Prints a message indicating that the first epoch may take some time.\n",
    "    - `for epoch in tqdm(range(n_epochs)):`: Loops through the specified number of epochs, displaying a progress bar with `tqdm`.\n",
    "    - `loss_sublist = []`: Initializes an empty list to store the loss values for the current epoch.\n",
    "    - `for x, y in train_loader:`: Loops through the batches of data in the training loader.\n",
    "    - `x, y = x.to(device), y.to(device)`: Moves the input data and labels to the specified device (CPU or GPU).\n",
    "    - `model.train()`: Sets the model to training mode.\n",
    "    - `x = x.repeat(1, 3, 1, 1)`: Repeats the input tensor along the channel dimension to match the expected input shape of the model.\n",
    "    - `z = model(x)`: Performs a forward pass through the model.\n",
    "    - `loss = criterion(z, y)`: Calculates the loss using the specified criterion.\n",
    "    - `loss_sublist.append(loss.data.item())`: Appends the loss value to the list for the current epoch.\n",
    "    - `loss.backward()`: Performs backpropagation to compute the gradients.\n",
    "    - `optimizer.step()`: Updates the model parameters using the optimizer.\n",
    "    - `optimizer.zero_grad()`: Resets the gradients to zero.\n",
    "    - `print(\"epoch {} done\".format(epoch))`: Prints a message indicating that the current epoch is done.\n",
    "\n",
    "3. **Validation Loop: Scheduler Step, Loss Calculation and Validation Batch Loop:**\n",
    "    - `schedule.step()`: Updates the learning rate scheduler.\n",
    "    - `loss_list.append(np.mean(loss_sublist))`: Appends the mean loss for the current epoch to the loss list.\n",
    "    - `correct = 0`: Resets the correct predictions counter.\n",
    "    - `for x_test, y_test in validation_loader:`: Loops through the batches of data in the validation loader.\n",
    "    - `x_test, y_test = x_test.to(device), y_test.to(device)`: Moves the input data and labels to the specified device (CPU or GPU).\n",
    "    - `model.eval()`: Sets the model to evaluation mode.\n",
    "    - `x_test = x_test.repeat(1, 3, 1, 1)`: Repeats the input tensor along the channel dimension to match the expected input shape of the model.\n",
    "    - `z = model(x_test)`: Performs a forward pass through the model.\n",
    "    - `_, yhat = torch.max(z.data, 1)`: Gets the predicted class with the highest score.\n",
    "    - `correct += (yhat == y_test).sum().item()`: Counts the number of correct predictions.\n",
    "    - `accuracy = correct / n_test`: Calculates the accuracy for the current epoch.\n",
    "    - `accuracy_list.append(accuracy)`: Appends the accuracy for the current epoch to the accuracy list.\n",
    "    - `if accuracy > accuracy_best:`: Checks if the current accuracy is better than the best accuracy.\n",
    "    - `accuracy_best = accuracy`: Updates the best accuracy.\n",
    "    - `best_model_wts = copy.deepcopy(model.state_dict())`: Saves the current model weights as the best model weights.\n",
    "\n",
    "4. **Printing and Returning Results:**\n",
    "    - `if print_:`: Checks if the `print_` flag is set to `True`.\n",
    "    - `print('learning rate', optimizer.param_groups[0]['lr'])`: Prints the current learning rate.\n",
    "    - `print(\"The validation Cost for each epoch \" + str(epoch + 1) + \": \" + str(np.mean(loss_sublist)))`: Prints the mean loss for the current epoch.\n",
    "    - `print(\"The validation accuracy for epoch \" + str(epoch + 1) + \": \" + str(accuracy))`: Prints the accuracy for the current epoch.\n",
    "    - `model.load_state_dict(best_model_wts)`: Loads the best model weights.\n",
    "    - `return accuracy_list, loss_list, model`: Returns the accuracy list, loss list, and the trained model."
   ]
  },
  {
   "cell_type": "code",
   "execution_count": 11,
   "metadata": {},
   "outputs": [],
   "source": [
    "import copy\n",
    "\n",
    "def train_model(model, train_loader, validation_loader, criterion, optimizer, n_epochs, print_=True):\n",
    "    loss_list = []\n",
    "    accuracy_list = []\n",
    "    correct = 0\n",
    "    #global:val_set\n",
    "    n_test = len(val_set)\n",
    "    accuracy_best=0\n",
    "    best_model_wts = copy.deepcopy(model.state_dict())\n",
    "\n",
    "    # Loop through epochs\n",
    "    print(\"The first epoch should take several minutes\")\n",
    "    for epoch in tqdm(range(n_epochs)):\n",
    "        \n",
    "        loss_sublist = []\n",
    "        \n",
    "        # Loop through the data in loader\n",
    "        for x, y in train_loader:\n",
    "            x, y=x.to(device), y.to(device)\n",
    "            \n",
    "            model.train() \n",
    "            x = x.repeat(1, 3, 1, 1)\n",
    "            z = model(x)\n",
    "            loss = criterion(z, y)\n",
    "            loss_sublist.append(loss.data.item())\n",
    "            loss.backward()\n",
    "            optimizer.step()\n",
    "\n",
    "            optimizer.zero_grad()\n",
    "        print(\"epoch {} done\".format(epoch) )\n",
    "\n",
    "        schedule.step()    \n",
    "        loss_list.append(np.mean(loss_sublist))\n",
    "        correct = 0\n",
    "\n",
    "\n",
    "        for x_test, y_test in validation_loader:\n",
    "            x_test, y_test=x_test.to(device), y_test.to(device)\n",
    "            model.eval()\n",
    "            x_test = x_test.repeat(1, 3, 1, 1)\n",
    "            z = model(x_test)\n",
    "            _, yhat = torch.max(z.data, 1)\n",
    "            correct += (yhat == y_test).sum().item()\n",
    "        accuracy = correct / n_test\n",
    "        accuracy_list.append(accuracy)\n",
    "        if accuracy>accuracy_best:\n",
    "            accuracy_best=accuracy\n",
    "            best_model_wts = copy.deepcopy(model.state_dict())\n",
    "        \n",
    "        \n",
    "        if print_:\n",
    "            print('learning rate',optimizer.param_groups[0]['lr'])\n",
    "            print(\"The validaion  Cost for each epoch \" + str(epoch + 1) + \": \" + str(np.mean(loss_sublist)))\n",
    "            print(\"The validation accuracy for epoch \" + str(epoch + 1) + \": \" + str(accuracy)) \n",
    "    model.load_state_dict(best_model_wts)    \n",
    "    return accuracy_list,loss_list, model"
   ]
  },
  {
   "cell_type": "markdown",
   "metadata": {},
   "source": [
    "## 2. Model Setup:\n",
    "\n",
    "1. **Loading the Pretrained Model:**\n",
    "- `model = models.resnet50(pretrained=True)`: Loads a pretrained ResNet50 model from the `torchvision.models` module.\n",
    "\n",
    "2. **Setting Requires Grad for Specific Layers:**\n",
    "    ##### Enabling Gradient Computation:\n",
    "    - Loops through the named children of the model.\n",
    "    - Enables gradient computation for the layers `conv1`, `bn1`, `relu`, and `maxpool` by setting `requires_grad` to `True`.\n",
    "\n",
    "    ##### Disabling Gradient Computation:\n",
    "    - Loops through the named children of the model.\n",
    "    - Disables gradient computation for all layers except `conv1`, `bn1`, `relu`, and `maxpool` by setting `requires_grad` to `False`.\n",
    "\n",
    "3. **Determining the Number of Classes:**\n",
    "    - Assumes `train_set` is a DataLoader or similar object.\n",
    "    - `n_classes = len(set(train_set.targets.numpy()))`: Calculates the number of unique classes in the training set by converting the targets to a NumPy array and using `set` to find unique values.\n",
    "\n",
    "4. **Defining a Custom Model Class:**\n",
    "    - Defines a custom neural network class `Model` that inherits from `nn.Module`.\n",
    "    - The `__init__` method initializes two fully connected layers (`fc1` and `fc2`).\n",
    "    - The `forward` method defines the forward pass, applying ReLU activation to the output of `fc1` and passing it through `fc2`.\n",
    "\n",
    "5. **Replacing the Fully Connected Layer of ResNet50:**\n",
    "    - `model.fc = Model(...)`: Replaces the fully connected layer of the ResNet50 model with an instance of the custom `Model` class that we create in step 4.\n",
    "        - `Model(2048, 10, n_classes)`: Sets the input size to 2048, hidden size to 512, and output size to the number of classes (`n_classes`).\n"
   ]
  },
  {
   "cell_type": "code",
   "execution_count": 12,
   "metadata": {},
   "outputs": [],
   "source": [
    "model = models.resnet50(pretrained=True)"
   ]
  },
  {
   "cell_type": "code",
   "execution_count": 14,
   "metadata": {},
   "outputs": [],
   "source": [
    "for name, layer in model.named_children():\n",
    "    if name in ['conv1', 'bn1', 'relu', 'maxpool']:\n",
    "        layer.requires_grad = True"
   ]
  },
  {
   "cell_type": "code",
   "execution_count": 15,
   "metadata": {},
   "outputs": [],
   "source": [
    "for name, layer in model.named_children():\n",
    "    if name not in ['conv1', 'bn1', 'relu', 'maxpool']:\n",
    "        layer.requires_grad  = False"
   ]
  },
  {
   "cell_type": "code",
   "execution_count": null,
   "metadata": {},
   "outputs": [
    {
     "name": "stdout",
     "output_type": "stream",
     "text": [
      "10\n"
     ]
    }
   ],
   "source": [
    "n_classes = len(set(train_set.targets.numpy()))\n",
    "print(n_classes)\n"
   ]
  },
  {
   "cell_type": "code",
   "execution_count": 17,
   "metadata": {},
   "outputs": [],
   "source": [
    "class Model(nn.Module):\n",
    "    def __init__(self, input_size, hidden_size, output_size):\n",
    "        super(Model, self).__init__()\n",
    "        self.fc1 = nn.Linear(input_size, hidden_size)  \n",
    "        self.fc2 = nn.Linear(hidden_size, output_size)\n",
    "\n",
    "    def forward(self, x):\n",
    "        x = torch.relu(self.fc1(x))\n",
    "        x = self.fc2(x)\n",
    "        return x\n"
   ]
  },
  {
   "cell_type": "code",
   "execution_count": null,
   "metadata": {},
   "outputs": [],
   "source": [
    "model.fc = Model(2048, 512, n_classes)"
   ]
  },
  {
   "cell_type": "markdown",
   "metadata": {},
   "source": [
    "## 3. Training:\n",
    "\n",
    "### 1. Configuring PyTorch for Multi-threading and Data Parallelism\n",
    "\n",
    "1. **Setting the Number of Threads:**\n",
    "- `torch.set_num_threads(3)`: Sets the number of threads used for intra-op parallelism on CPU to 3. This can help control the amount of CPU resources used by PyTorch operations.\n",
    "\n",
    "2. **Wrapping the Model with DataParallel:**\n",
    "- `model = DataParallel(model)`: Wraps the model with `DataParallel`, enabling it to utilize multiple GPUs for training and inference.\n",
    "\n",
    "#. **Moving the Model to the Device:**\n",
    "- `model.to(device)`: Moves the model to the specified device (CPU or GPU). This ensures that the model computations are performed on the appropriate hardware.\n"
   ]
  },
  {
   "cell_type": "code",
   "execution_count": 35,
   "metadata": {},
   "outputs": [],
   "source": [
    "torch.set_num_threads(3)"
   ]
  },
  {
   "cell_type": "code",
   "execution_count": null,
   "metadata": {},
   "outputs": [],
   "source": [
    "from torch.nn import DataParallel\n",
    "\n",
    "model = DataParallel(model)"
   ]
  },
  {
   "cell_type": "code",
   "execution_count": 34,
   "metadata": {},
   "outputs": [
    {
     "data": {
      "text/plain": [
       "ResNet(\n",
       "  (conv1): Conv2d(3, 64, kernel_size=(7, 7), stride=(2, 2), padding=(3, 3), bias=False)\n",
       "  (bn1): BatchNorm2d(64, eps=1e-05, momentum=0.1, affine=True, track_running_stats=True)\n",
       "  (relu): ReLU(inplace=True)\n",
       "  (maxpool): MaxPool2d(kernel_size=3, stride=2, padding=1, dilation=1, ceil_mode=False)\n",
       "  (layer1): Sequential(\n",
       "    (0): Bottleneck(\n",
       "      (conv1): Conv2d(64, 64, kernel_size=(1, 1), stride=(1, 1), bias=False)\n",
       "      (bn1): BatchNorm2d(64, eps=1e-05, momentum=0.1, affine=True, track_running_stats=True)\n",
       "      (conv2): Conv2d(64, 64, kernel_size=(3, 3), stride=(1, 1), padding=(1, 1), bias=False)\n",
       "      (bn2): BatchNorm2d(64, eps=1e-05, momentum=0.1, affine=True, track_running_stats=True)\n",
       "      (conv3): Conv2d(64, 256, kernel_size=(1, 1), stride=(1, 1), bias=False)\n",
       "      (bn3): BatchNorm2d(256, eps=1e-05, momentum=0.1, affine=True, track_running_stats=True)\n",
       "      (relu): ReLU(inplace=True)\n",
       "      (downsample): Sequential(\n",
       "        (0): Conv2d(64, 256, kernel_size=(1, 1), stride=(1, 1), bias=False)\n",
       "        (1): BatchNorm2d(256, eps=1e-05, momentum=0.1, affine=True, track_running_stats=True)\n",
       "      )\n",
       "    )\n",
       "    (1): Bottleneck(\n",
       "      (conv1): Conv2d(256, 64, kernel_size=(1, 1), stride=(1, 1), bias=False)\n",
       "      (bn1): BatchNorm2d(64, eps=1e-05, momentum=0.1, affine=True, track_running_stats=True)\n",
       "      (conv2): Conv2d(64, 64, kernel_size=(3, 3), stride=(1, 1), padding=(1, 1), bias=False)\n",
       "      (bn2): BatchNorm2d(64, eps=1e-05, momentum=0.1, affine=True, track_running_stats=True)\n",
       "      (conv3): Conv2d(64, 256, kernel_size=(1, 1), stride=(1, 1), bias=False)\n",
       "      (bn3): BatchNorm2d(256, eps=1e-05, momentum=0.1, affine=True, track_running_stats=True)\n",
       "      (relu): ReLU(inplace=True)\n",
       "    )\n",
       "    (2): Bottleneck(\n",
       "      (conv1): Conv2d(256, 64, kernel_size=(1, 1), stride=(1, 1), bias=False)\n",
       "      (bn1): BatchNorm2d(64, eps=1e-05, momentum=0.1, affine=True, track_running_stats=True)\n",
       "      (conv2): Conv2d(64, 64, kernel_size=(3, 3), stride=(1, 1), padding=(1, 1), bias=False)\n",
       "      (bn2): BatchNorm2d(64, eps=1e-05, momentum=0.1, affine=True, track_running_stats=True)\n",
       "      (conv3): Conv2d(64, 256, kernel_size=(1, 1), stride=(1, 1), bias=False)\n",
       "      (bn3): BatchNorm2d(256, eps=1e-05, momentum=0.1, affine=True, track_running_stats=True)\n",
       "      (relu): ReLU(inplace=True)\n",
       "    )\n",
       "  )\n",
       "  (layer2): Sequential(\n",
       "    (0): Bottleneck(\n",
       "      (conv1): Conv2d(256, 128, kernel_size=(1, 1), stride=(1, 1), bias=False)\n",
       "      (bn1): BatchNorm2d(128, eps=1e-05, momentum=0.1, affine=True, track_running_stats=True)\n",
       "      (conv2): Conv2d(128, 128, kernel_size=(3, 3), stride=(2, 2), padding=(1, 1), bias=False)\n",
       "      (bn2): BatchNorm2d(128, eps=1e-05, momentum=0.1, affine=True, track_running_stats=True)\n",
       "      (conv3): Conv2d(128, 512, kernel_size=(1, 1), stride=(1, 1), bias=False)\n",
       "      (bn3): BatchNorm2d(512, eps=1e-05, momentum=0.1, affine=True, track_running_stats=True)\n",
       "      (relu): ReLU(inplace=True)\n",
       "      (downsample): Sequential(\n",
       "        (0): Conv2d(256, 512, kernel_size=(1, 1), stride=(2, 2), bias=False)\n",
       "        (1): BatchNorm2d(512, eps=1e-05, momentum=0.1, affine=True, track_running_stats=True)\n",
       "      )\n",
       "    )\n",
       "    (1): Bottleneck(\n",
       "      (conv1): Conv2d(512, 128, kernel_size=(1, 1), stride=(1, 1), bias=False)\n",
       "      (bn1): BatchNorm2d(128, eps=1e-05, momentum=0.1, affine=True, track_running_stats=True)\n",
       "      (conv2): Conv2d(128, 128, kernel_size=(3, 3), stride=(1, 1), padding=(1, 1), bias=False)\n",
       "      (bn2): BatchNorm2d(128, eps=1e-05, momentum=0.1, affine=True, track_running_stats=True)\n",
       "      (conv3): Conv2d(128, 512, kernel_size=(1, 1), stride=(1, 1), bias=False)\n",
       "      (bn3): BatchNorm2d(512, eps=1e-05, momentum=0.1, affine=True, track_running_stats=True)\n",
       "      (relu): ReLU(inplace=True)\n",
       "    )\n",
       "    (2): Bottleneck(\n",
       "      (conv1): Conv2d(512, 128, kernel_size=(1, 1), stride=(1, 1), bias=False)\n",
       "      (bn1): BatchNorm2d(128, eps=1e-05, momentum=0.1, affine=True, track_running_stats=True)\n",
       "      (conv2): Conv2d(128, 128, kernel_size=(3, 3), stride=(1, 1), padding=(1, 1), bias=False)\n",
       "      (bn2): BatchNorm2d(128, eps=1e-05, momentum=0.1, affine=True, track_running_stats=True)\n",
       "      (conv3): Conv2d(128, 512, kernel_size=(1, 1), stride=(1, 1), bias=False)\n",
       "      (bn3): BatchNorm2d(512, eps=1e-05, momentum=0.1, affine=True, track_running_stats=True)\n",
       "      (relu): ReLU(inplace=True)\n",
       "    )\n",
       "    (3): Bottleneck(\n",
       "      (conv1): Conv2d(512, 128, kernel_size=(1, 1), stride=(1, 1), bias=False)\n",
       "      (bn1): BatchNorm2d(128, eps=1e-05, momentum=0.1, affine=True, track_running_stats=True)\n",
       "      (conv2): Conv2d(128, 128, kernel_size=(3, 3), stride=(1, 1), padding=(1, 1), bias=False)\n",
       "      (bn2): BatchNorm2d(128, eps=1e-05, momentum=0.1, affine=True, track_running_stats=True)\n",
       "      (conv3): Conv2d(128, 512, kernel_size=(1, 1), stride=(1, 1), bias=False)\n",
       "      (bn3): BatchNorm2d(512, eps=1e-05, momentum=0.1, affine=True, track_running_stats=True)\n",
       "      (relu): ReLU(inplace=True)\n",
       "    )\n",
       "  )\n",
       "  (layer3): Sequential(\n",
       "    (0): Bottleneck(\n",
       "      (conv1): Conv2d(512, 256, kernel_size=(1, 1), stride=(1, 1), bias=False)\n",
       "      (bn1): BatchNorm2d(256, eps=1e-05, momentum=0.1, affine=True, track_running_stats=True)\n",
       "      (conv2): Conv2d(256, 256, kernel_size=(3, 3), stride=(2, 2), padding=(1, 1), bias=False)\n",
       "      (bn2): BatchNorm2d(256, eps=1e-05, momentum=0.1, affine=True, track_running_stats=True)\n",
       "      (conv3): Conv2d(256, 1024, kernel_size=(1, 1), stride=(1, 1), bias=False)\n",
       "      (bn3): BatchNorm2d(1024, eps=1e-05, momentum=0.1, affine=True, track_running_stats=True)\n",
       "      (relu): ReLU(inplace=True)\n",
       "      (downsample): Sequential(\n",
       "        (0): Conv2d(512, 1024, kernel_size=(1, 1), stride=(2, 2), bias=False)\n",
       "        (1): BatchNorm2d(1024, eps=1e-05, momentum=0.1, affine=True, track_running_stats=True)\n",
       "      )\n",
       "    )\n",
       "    (1): Bottleneck(\n",
       "      (conv1): Conv2d(1024, 256, kernel_size=(1, 1), stride=(1, 1), bias=False)\n",
       "      (bn1): BatchNorm2d(256, eps=1e-05, momentum=0.1, affine=True, track_running_stats=True)\n",
       "      (conv2): Conv2d(256, 256, kernel_size=(3, 3), stride=(1, 1), padding=(1, 1), bias=False)\n",
       "      (bn2): BatchNorm2d(256, eps=1e-05, momentum=0.1, affine=True, track_running_stats=True)\n",
       "      (conv3): Conv2d(256, 1024, kernel_size=(1, 1), stride=(1, 1), bias=False)\n",
       "      (bn3): BatchNorm2d(1024, eps=1e-05, momentum=0.1, affine=True, track_running_stats=True)\n",
       "      (relu): ReLU(inplace=True)\n",
       "    )\n",
       "    (2): Bottleneck(\n",
       "      (conv1): Conv2d(1024, 256, kernel_size=(1, 1), stride=(1, 1), bias=False)\n",
       "      (bn1): BatchNorm2d(256, eps=1e-05, momentum=0.1, affine=True, track_running_stats=True)\n",
       "      (conv2): Conv2d(256, 256, kernel_size=(3, 3), stride=(1, 1), padding=(1, 1), bias=False)\n",
       "      (bn2): BatchNorm2d(256, eps=1e-05, momentum=0.1, affine=True, track_running_stats=True)\n",
       "      (conv3): Conv2d(256, 1024, kernel_size=(1, 1), stride=(1, 1), bias=False)\n",
       "      (bn3): BatchNorm2d(1024, eps=1e-05, momentum=0.1, affine=True, track_running_stats=True)\n",
       "      (relu): ReLU(inplace=True)\n",
       "    )\n",
       "    (3): Bottleneck(\n",
       "      (conv1): Conv2d(1024, 256, kernel_size=(1, 1), stride=(1, 1), bias=False)\n",
       "      (bn1): BatchNorm2d(256, eps=1e-05, momentum=0.1, affine=True, track_running_stats=True)\n",
       "      (conv2): Conv2d(256, 256, kernel_size=(3, 3), stride=(1, 1), padding=(1, 1), bias=False)\n",
       "      (bn2): BatchNorm2d(256, eps=1e-05, momentum=0.1, affine=True, track_running_stats=True)\n",
       "      (conv3): Conv2d(256, 1024, kernel_size=(1, 1), stride=(1, 1), bias=False)\n",
       "      (bn3): BatchNorm2d(1024, eps=1e-05, momentum=0.1, affine=True, track_running_stats=True)\n",
       "      (relu): ReLU(inplace=True)\n",
       "    )\n",
       "    (4): Bottleneck(\n",
       "      (conv1): Conv2d(1024, 256, kernel_size=(1, 1), stride=(1, 1), bias=False)\n",
       "      (bn1): BatchNorm2d(256, eps=1e-05, momentum=0.1, affine=True, track_running_stats=True)\n",
       "      (conv2): Conv2d(256, 256, kernel_size=(3, 3), stride=(1, 1), padding=(1, 1), bias=False)\n",
       "      (bn2): BatchNorm2d(256, eps=1e-05, momentum=0.1, affine=True, track_running_stats=True)\n",
       "      (conv3): Conv2d(256, 1024, kernel_size=(1, 1), stride=(1, 1), bias=False)\n",
       "      (bn3): BatchNorm2d(1024, eps=1e-05, momentum=0.1, affine=True, track_running_stats=True)\n",
       "      (relu): ReLU(inplace=True)\n",
       "    )\n",
       "    (5): Bottleneck(\n",
       "      (conv1): Conv2d(1024, 256, kernel_size=(1, 1), stride=(1, 1), bias=False)\n",
       "      (bn1): BatchNorm2d(256, eps=1e-05, momentum=0.1, affine=True, track_running_stats=True)\n",
       "      (conv2): Conv2d(256, 256, kernel_size=(3, 3), stride=(1, 1), padding=(1, 1), bias=False)\n",
       "      (bn2): BatchNorm2d(256, eps=1e-05, momentum=0.1, affine=True, track_running_stats=True)\n",
       "      (conv3): Conv2d(256, 1024, kernel_size=(1, 1), stride=(1, 1), bias=False)\n",
       "      (bn3): BatchNorm2d(1024, eps=1e-05, momentum=0.1, affine=True, track_running_stats=True)\n",
       "      (relu): ReLU(inplace=True)\n",
       "    )\n",
       "  )\n",
       "  (layer4): Sequential(\n",
       "    (0): Bottleneck(\n",
       "      (conv1): Conv2d(1024, 512, kernel_size=(1, 1), stride=(1, 1), bias=False)\n",
       "      (bn1): BatchNorm2d(512, eps=1e-05, momentum=0.1, affine=True, track_running_stats=True)\n",
       "      (conv2): Conv2d(512, 512, kernel_size=(3, 3), stride=(2, 2), padding=(1, 1), bias=False)\n",
       "      (bn2): BatchNorm2d(512, eps=1e-05, momentum=0.1, affine=True, track_running_stats=True)\n",
       "      (conv3): Conv2d(512, 2048, kernel_size=(1, 1), stride=(1, 1), bias=False)\n",
       "      (bn3): BatchNorm2d(2048, eps=1e-05, momentum=0.1, affine=True, track_running_stats=True)\n",
       "      (relu): ReLU(inplace=True)\n",
       "      (downsample): Sequential(\n",
       "        (0): Conv2d(1024, 2048, kernel_size=(1, 1), stride=(2, 2), bias=False)\n",
       "        (1): BatchNorm2d(2048, eps=1e-05, momentum=0.1, affine=True, track_running_stats=True)\n",
       "      )\n",
       "    )\n",
       "    (1): Bottleneck(\n",
       "      (conv1): Conv2d(2048, 512, kernel_size=(1, 1), stride=(1, 1), bias=False)\n",
       "      (bn1): BatchNorm2d(512, eps=1e-05, momentum=0.1, affine=True, track_running_stats=True)\n",
       "      (conv2): Conv2d(512, 512, kernel_size=(3, 3), stride=(1, 1), padding=(1, 1), bias=False)\n",
       "      (bn2): BatchNorm2d(512, eps=1e-05, momentum=0.1, affine=True, track_running_stats=True)\n",
       "      (conv3): Conv2d(512, 2048, kernel_size=(1, 1), stride=(1, 1), bias=False)\n",
       "      (bn3): BatchNorm2d(2048, eps=1e-05, momentum=0.1, affine=True, track_running_stats=True)\n",
       "      (relu): ReLU(inplace=True)\n",
       "    )\n",
       "    (2): Bottleneck(\n",
       "      (conv1): Conv2d(2048, 512, kernel_size=(1, 1), stride=(1, 1), bias=False)\n",
       "      (bn1): BatchNorm2d(512, eps=1e-05, momentum=0.1, affine=True, track_running_stats=True)\n",
       "      (conv2): Conv2d(512, 512, kernel_size=(3, 3), stride=(1, 1), padding=(1, 1), bias=False)\n",
       "      (bn2): BatchNorm2d(512, eps=1e-05, momentum=0.1, affine=True, track_running_stats=True)\n",
       "      (conv3): Conv2d(512, 2048, kernel_size=(1, 1), stride=(1, 1), bias=False)\n",
       "      (bn3): BatchNorm2d(2048, eps=1e-05, momentum=0.1, affine=True, track_running_stats=True)\n",
       "      (relu): ReLU(inplace=True)\n",
       "    )\n",
       "  )\n",
       "  (avgpool): AdaptiveAvgPool2d(output_size=(1, 1))\n",
       "  (fc): Model(\n",
       "    (fc1): Linear(in_features=2048, out_features=512, bias=True)\n",
       "    (fc2): Linear(in_features=512, out_features=10, bias=True)\n",
       "  )\n",
       ")"
      ]
     },
     "execution_count": 34,
     "metadata": {},
     "output_type": "execute_result"
    }
   ],
   "source": [
    "model.to(device)"
   ]
  },
  {
   "cell_type": "code",
   "execution_count": 20,
   "metadata": {},
   "outputs": [
    {
     "name": "stdout",
     "output_type": "stream",
     "text": [
      "----------------------------------------------------------------\n",
      "        Layer (type)               Output Shape         Param #\n",
      "================================================================\n",
      "            Conv2d-1             [-1, 64, 8, 8]           9,408\n",
      "       BatchNorm2d-2             [-1, 64, 8, 8]             128\n",
      "              ReLU-3             [-1, 64, 8, 8]               0\n",
      "         MaxPool2d-4             [-1, 64, 4, 4]               0\n",
      "            Conv2d-5             [-1, 64, 4, 4]           4,096\n",
      "       BatchNorm2d-6             [-1, 64, 4, 4]             128\n",
      "              ReLU-7             [-1, 64, 4, 4]               0\n",
      "            Conv2d-8             [-1, 64, 4, 4]          36,864\n",
      "       BatchNorm2d-9             [-1, 64, 4, 4]             128\n",
      "             ReLU-10             [-1, 64, 4, 4]               0\n",
      "           Conv2d-11            [-1, 256, 4, 4]          16,384\n",
      "      BatchNorm2d-12            [-1, 256, 4, 4]             512\n",
      "           Conv2d-13            [-1, 256, 4, 4]          16,384\n",
      "      BatchNorm2d-14            [-1, 256, 4, 4]             512\n",
      "             ReLU-15            [-1, 256, 4, 4]               0\n",
      "       Bottleneck-16            [-1, 256, 4, 4]               0\n",
      "           Conv2d-17             [-1, 64, 4, 4]          16,384\n",
      "      BatchNorm2d-18             [-1, 64, 4, 4]             128\n",
      "             ReLU-19             [-1, 64, 4, 4]               0\n",
      "           Conv2d-20             [-1, 64, 4, 4]          36,864\n",
      "      BatchNorm2d-21             [-1, 64, 4, 4]             128\n",
      "             ReLU-22             [-1, 64, 4, 4]               0\n",
      "           Conv2d-23            [-1, 256, 4, 4]          16,384\n",
      "      BatchNorm2d-24            [-1, 256, 4, 4]             512\n",
      "             ReLU-25            [-1, 256, 4, 4]               0\n",
      "       Bottleneck-26            [-1, 256, 4, 4]               0\n",
      "           Conv2d-27             [-1, 64, 4, 4]          16,384\n",
      "      BatchNorm2d-28             [-1, 64, 4, 4]             128\n",
      "             ReLU-29             [-1, 64, 4, 4]               0\n",
      "           Conv2d-30             [-1, 64, 4, 4]          36,864\n",
      "      BatchNorm2d-31             [-1, 64, 4, 4]             128\n",
      "             ReLU-32             [-1, 64, 4, 4]               0\n",
      "           Conv2d-33            [-1, 256, 4, 4]          16,384\n",
      "      BatchNorm2d-34            [-1, 256, 4, 4]             512\n",
      "             ReLU-35            [-1, 256, 4, 4]               0\n",
      "       Bottleneck-36            [-1, 256, 4, 4]               0\n",
      "           Conv2d-37            [-1, 128, 4, 4]          32,768\n",
      "      BatchNorm2d-38            [-1, 128, 4, 4]             256\n",
      "             ReLU-39            [-1, 128, 4, 4]               0\n",
      "           Conv2d-40            [-1, 128, 2, 2]         147,456\n",
      "      BatchNorm2d-41            [-1, 128, 2, 2]             256\n",
      "             ReLU-42            [-1, 128, 2, 2]               0\n",
      "           Conv2d-43            [-1, 512, 2, 2]          65,536\n",
      "      BatchNorm2d-44            [-1, 512, 2, 2]           1,024\n",
      "           Conv2d-45            [-1, 512, 2, 2]         131,072\n",
      "      BatchNorm2d-46            [-1, 512, 2, 2]           1,024\n",
      "             ReLU-47            [-1, 512, 2, 2]               0\n",
      "       Bottleneck-48            [-1, 512, 2, 2]               0\n",
      "           Conv2d-49            [-1, 128, 2, 2]          65,536\n",
      "      BatchNorm2d-50            [-1, 128, 2, 2]             256\n",
      "             ReLU-51            [-1, 128, 2, 2]               0\n",
      "           Conv2d-52            [-1, 128, 2, 2]         147,456\n",
      "      BatchNorm2d-53            [-1, 128, 2, 2]             256\n",
      "             ReLU-54            [-1, 128, 2, 2]               0\n",
      "           Conv2d-55            [-1, 512, 2, 2]          65,536\n",
      "      BatchNorm2d-56            [-1, 512, 2, 2]           1,024\n",
      "             ReLU-57            [-1, 512, 2, 2]               0\n",
      "       Bottleneck-58            [-1, 512, 2, 2]               0\n",
      "           Conv2d-59            [-1, 128, 2, 2]          65,536\n",
      "      BatchNorm2d-60            [-1, 128, 2, 2]             256\n",
      "             ReLU-61            [-1, 128, 2, 2]               0\n",
      "           Conv2d-62            [-1, 128, 2, 2]         147,456\n",
      "      BatchNorm2d-63            [-1, 128, 2, 2]             256\n",
      "             ReLU-64            [-1, 128, 2, 2]               0\n",
      "           Conv2d-65            [-1, 512, 2, 2]          65,536\n",
      "      BatchNorm2d-66            [-1, 512, 2, 2]           1,024\n",
      "             ReLU-67            [-1, 512, 2, 2]               0\n",
      "       Bottleneck-68            [-1, 512, 2, 2]               0\n",
      "           Conv2d-69            [-1, 128, 2, 2]          65,536\n",
      "      BatchNorm2d-70            [-1, 128, 2, 2]             256\n",
      "             ReLU-71            [-1, 128, 2, 2]               0\n",
      "           Conv2d-72            [-1, 128, 2, 2]         147,456\n",
      "      BatchNorm2d-73            [-1, 128, 2, 2]             256\n",
      "             ReLU-74            [-1, 128, 2, 2]               0\n",
      "           Conv2d-75            [-1, 512, 2, 2]          65,536\n",
      "      BatchNorm2d-76            [-1, 512, 2, 2]           1,024\n",
      "             ReLU-77            [-1, 512, 2, 2]               0\n",
      "       Bottleneck-78            [-1, 512, 2, 2]               0\n",
      "           Conv2d-79            [-1, 256, 2, 2]         131,072\n",
      "      BatchNorm2d-80            [-1, 256, 2, 2]             512\n",
      "             ReLU-81            [-1, 256, 2, 2]               0\n",
      "           Conv2d-82            [-1, 256, 1, 1]         589,824\n",
      "      BatchNorm2d-83            [-1, 256, 1, 1]             512\n",
      "             ReLU-84            [-1, 256, 1, 1]               0\n",
      "           Conv2d-85           [-1, 1024, 1, 1]         262,144\n",
      "      BatchNorm2d-86           [-1, 1024, 1, 1]           2,048\n",
      "           Conv2d-87           [-1, 1024, 1, 1]         524,288\n",
      "      BatchNorm2d-88           [-1, 1024, 1, 1]           2,048\n",
      "             ReLU-89           [-1, 1024, 1, 1]               0\n",
      "       Bottleneck-90           [-1, 1024, 1, 1]               0\n",
      "           Conv2d-91            [-1, 256, 1, 1]         262,144\n",
      "      BatchNorm2d-92            [-1, 256, 1, 1]             512\n",
      "             ReLU-93            [-1, 256, 1, 1]               0\n",
      "           Conv2d-94            [-1, 256, 1, 1]         589,824\n",
      "      BatchNorm2d-95            [-1, 256, 1, 1]             512\n",
      "             ReLU-96            [-1, 256, 1, 1]               0\n",
      "           Conv2d-97           [-1, 1024, 1, 1]         262,144\n",
      "      BatchNorm2d-98           [-1, 1024, 1, 1]           2,048\n",
      "             ReLU-99           [-1, 1024, 1, 1]               0\n",
      "      Bottleneck-100           [-1, 1024, 1, 1]               0\n",
      "          Conv2d-101            [-1, 256, 1, 1]         262,144\n",
      "     BatchNorm2d-102            [-1, 256, 1, 1]             512\n",
      "            ReLU-103            [-1, 256, 1, 1]               0\n",
      "          Conv2d-104            [-1, 256, 1, 1]         589,824\n",
      "     BatchNorm2d-105            [-1, 256, 1, 1]             512\n",
      "            ReLU-106            [-1, 256, 1, 1]               0\n",
      "          Conv2d-107           [-1, 1024, 1, 1]         262,144\n",
      "     BatchNorm2d-108           [-1, 1024, 1, 1]           2,048\n",
      "            ReLU-109           [-1, 1024, 1, 1]               0\n",
      "      Bottleneck-110           [-1, 1024, 1, 1]               0\n",
      "          Conv2d-111            [-1, 256, 1, 1]         262,144\n",
      "     BatchNorm2d-112            [-1, 256, 1, 1]             512\n",
      "            ReLU-113            [-1, 256, 1, 1]               0\n",
      "          Conv2d-114            [-1, 256, 1, 1]         589,824\n",
      "     BatchNorm2d-115            [-1, 256, 1, 1]             512\n",
      "            ReLU-116            [-1, 256, 1, 1]               0\n",
      "          Conv2d-117           [-1, 1024, 1, 1]         262,144\n",
      "     BatchNorm2d-118           [-1, 1024, 1, 1]           2,048\n",
      "            ReLU-119           [-1, 1024, 1, 1]               0\n",
      "      Bottleneck-120           [-1, 1024, 1, 1]               0\n",
      "          Conv2d-121            [-1, 256, 1, 1]         262,144\n",
      "     BatchNorm2d-122            [-1, 256, 1, 1]             512\n",
      "            ReLU-123            [-1, 256, 1, 1]               0\n",
      "          Conv2d-124            [-1, 256, 1, 1]         589,824\n",
      "     BatchNorm2d-125            [-1, 256, 1, 1]             512\n",
      "            ReLU-126            [-1, 256, 1, 1]               0\n",
      "          Conv2d-127           [-1, 1024, 1, 1]         262,144\n",
      "     BatchNorm2d-128           [-1, 1024, 1, 1]           2,048\n",
      "            ReLU-129           [-1, 1024, 1, 1]               0\n",
      "      Bottleneck-130           [-1, 1024, 1, 1]               0\n",
      "          Conv2d-131            [-1, 256, 1, 1]         262,144\n",
      "     BatchNorm2d-132            [-1, 256, 1, 1]             512\n",
      "            ReLU-133            [-1, 256, 1, 1]               0\n",
      "          Conv2d-134            [-1, 256, 1, 1]         589,824\n",
      "     BatchNorm2d-135            [-1, 256, 1, 1]             512\n",
      "            ReLU-136            [-1, 256, 1, 1]               0\n",
      "          Conv2d-137           [-1, 1024, 1, 1]         262,144\n",
      "     BatchNorm2d-138           [-1, 1024, 1, 1]           2,048\n",
      "            ReLU-139           [-1, 1024, 1, 1]               0\n",
      "      Bottleneck-140           [-1, 1024, 1, 1]               0\n",
      "          Conv2d-141            [-1, 512, 1, 1]         524,288\n",
      "     BatchNorm2d-142            [-1, 512, 1, 1]           1,024\n",
      "            ReLU-143            [-1, 512, 1, 1]               0\n",
      "          Conv2d-144            [-1, 512, 1, 1]       2,359,296\n",
      "     BatchNorm2d-145            [-1, 512, 1, 1]           1,024\n",
      "            ReLU-146            [-1, 512, 1, 1]               0\n",
      "          Conv2d-147           [-1, 2048, 1, 1]       1,048,576\n",
      "     BatchNorm2d-148           [-1, 2048, 1, 1]           4,096\n",
      "          Conv2d-149           [-1, 2048, 1, 1]       2,097,152\n",
      "     BatchNorm2d-150           [-1, 2048, 1, 1]           4,096\n",
      "            ReLU-151           [-1, 2048, 1, 1]               0\n",
      "      Bottleneck-152           [-1, 2048, 1, 1]               0\n",
      "          Conv2d-153            [-1, 512, 1, 1]       1,048,576\n",
      "     BatchNorm2d-154            [-1, 512, 1, 1]           1,024\n",
      "            ReLU-155            [-1, 512, 1, 1]               0\n",
      "          Conv2d-156            [-1, 512, 1, 1]       2,359,296\n",
      "     BatchNorm2d-157            [-1, 512, 1, 1]           1,024\n",
      "            ReLU-158            [-1, 512, 1, 1]               0\n",
      "          Conv2d-159           [-1, 2048, 1, 1]       1,048,576\n",
      "     BatchNorm2d-160           [-1, 2048, 1, 1]           4,096\n",
      "            ReLU-161           [-1, 2048, 1, 1]               0\n",
      "      Bottleneck-162           [-1, 2048, 1, 1]               0\n",
      "          Conv2d-163            [-1, 512, 1, 1]       1,048,576\n",
      "     BatchNorm2d-164            [-1, 512, 1, 1]           1,024\n",
      "            ReLU-165            [-1, 512, 1, 1]               0\n",
      "          Conv2d-166            [-1, 512, 1, 1]       2,359,296\n",
      "     BatchNorm2d-167            [-1, 512, 1, 1]           1,024\n",
      "            ReLU-168            [-1, 512, 1, 1]               0\n",
      "          Conv2d-169           [-1, 2048, 1, 1]       1,048,576\n",
      "     BatchNorm2d-170           [-1, 2048, 1, 1]           4,096\n",
      "            ReLU-171           [-1, 2048, 1, 1]               0\n",
      "      Bottleneck-172           [-1, 2048, 1, 1]               0\n",
      "AdaptiveAvgPool2d-173           [-1, 2048, 1, 1]               0\n",
      "          Linear-174                   [-1, 10]          20,490\n",
      "          Linear-175                   [-1, 10]             110\n",
      "           Model-176                   [-1, 10]               0\n",
      "          ResNet-177                   [-1, 10]               0\n",
      "================================================================\n",
      "Total params: 23,528,632\n",
      "Trainable params: 23,528,632\n",
      "Non-trainable params: 0\n",
      "----------------------------------------------------------------\n",
      "Input size (MB): 0.00\n",
      "Forward/backward pass size (MB): 1.69\n",
      "Params size (MB): 89.75\n",
      "Estimated Total Size (MB): 91.44\n",
      "----------------------------------------------------------------\n"
     ]
    }
   ],
   "source": [
    "from torchsummary import summary\n",
    "\n",
    "summary(model, input_size=(3, IMAGE_SIZE, IMAGE_SIZE))"
   ]
  },
  {
   "cell_type": "markdown",
   "metadata": {},
   "source": [
    "### 2. Setting Up Training Components for PyTorch\n",
    "\n",
    "1. **Defining the Loss Function:**\n",
    "    - `criterion = nn.CrossEntropyLoss()`: Initializes the cross-entropy loss function, which is commonly used for classification tasks.\n",
    "\n",
    "2. **Creating Data Loaders:**\n",
    "    1. **Training Data Loader:**\n",
    "        - `torch.utils.data.DataLoader(...)`: Creates a data loader for the training dataset.\n",
    "            - `dataset=train_set`: Specifies the training dataset.\n",
    "            - `batch_size=batch_size`: Sets the batch size for loading data.\n",
    "            - `num_workers=4`: Uses 4 subprocesses for data loading.\n",
    "            - `shuffle=True`: Shuffles the data at every epoch.\n",
    "\n",
    "    2. **Validation Data Loader:**\n",
    "        - `torch.utils.data.DataLoader(...)`: Creates a data loader for the validation dataset.\n",
    "            - `dataset=val_set`: Specifies the validation dataset.\n",
    "            - `batch_size=2500`: Sets the batch size for loading data. Here, a larger batch size is used for validation.\n",
    "\n",
    "3. **Setting Up the Optimizer:**\n",
    "    - `torch.optim.SGD(...)`: Initializes the Stochastic Gradient Descent (SGD) optimizer.\n",
    "        - `model.parameters()`: Passes the model parameters to the optimizer.\n",
    "        - `lr=lr`: Sets the learning rate.\n",
    "        - `momentum=momentum`: Sets the momentum factor.\n",
    "\n",
    "4. **Configuring the Learning Rate Scheduler:**\n",
    "    - `if lr_scheduler:`: Checks if a learning rate scheduler is provided.\n",
    "    - `lr_scheduler.CyclicLR(...)`: Initializes a cyclic learning rate scheduler.\n",
    "        - `optimizer`: Passes the optimizer to the scheduler.\n",
    "        - `base_lr=0.001`: Sets the base learning rate.\n",
    "        - `max_lr=0.01`: Sets the maximum learning rate.\n",
    "        - `step_size_up=5`: Defines the number of training iterations in the increasing half of a cycle.\n",
    "        - `mode=\"triangular2\"`: Uses the \"triangular2\" mode for the learning rate schedule, which halves the cycle amplitude after each cycle."
   ]
  },
  {
   "cell_type": "code",
   "execution_count": 21,
   "metadata": {},
   "outputs": [],
   "source": [
    "criterion = nn.CrossEntropyLoss()"
   ]
  },
  {
   "cell_type": "code",
   "execution_count": null,
   "metadata": {},
   "outputs": [],
   "source": [
    "train_loader = torch.utils.data.DataLoader(dataset=train_set, batch_size=batch_size, num_workers=4, shuffle=True)\n",
    "validation_loader= torch.utils.data.DataLoader(dataset=val_set , batch_size=2500)"
   ]
  },
  {
   "cell_type": "code",
   "execution_count": 23,
   "metadata": {},
   "outputs": [],
   "source": [
    "optimizer = torch.optim.SGD(model.parameters(), lr=lr, momentum=momentum)"
   ]
  },
  {
   "cell_type": "code",
   "execution_count": null,
   "metadata": {},
   "outputs": [],
   "source": [
    "if lr_scheduler:\n",
    "    schedule = lr_scheduler.CyclicLR(optimizer, base_lr=0.001, max_lr=0.01 ,step_size_up=5, mode=\"triangular2\")"
   ]
  },
  {
   "cell_type": "code",
   "execution_count": 25,
   "metadata": {},
   "outputs": [],
   "source": [
    "from datetime import datetime\n",
    "import time"
   ]
  },
  {
   "cell_type": "markdown",
   "metadata": {},
   "source": [
    "### 3. Train the Model with Fashion MNISt Dataset\n",
    "\n",
    "1. **Recording Start Time:**\n",
    "    - `start_datetime = datetime.now()`: Records the current date and time.\n",
    "    - `start_time = time.time()`: Records the current time in seconds since the epoch.\n",
    "\n",
    "2. **Training the Model:**\n",
    "    - `accuracy_list, loss_list, model = train_model(...)`: Calls the `train_model` function to train the model and returns the accuracy list, loss list, and the trained model.\n",
    "\n",
    "3. **Recording End Time and Calculating Elapsed Time:**\n",
    "    - `end_datetime = datetime.now()`: Records the current date and time after training.\n",
    "    - `current_time = time.time()`: Records the current time in seconds since the epoch after training.\n",
    "    - `elapsed_time = current_time - start_time`: Calculates the elapsed time by subtracting the start time from the current time.\n",
    "    - `print(f\"elapsed time {elapsed_time} seconds\")`: Prints the elapsed time in seconds.\n"
   ]
  },
  {
   "cell_type": "code",
   "execution_count": null,
   "metadata": {},
   "outputs": [
    {
     "name": "stdout",
     "output_type": "stream",
     "text": [
      "The first epoch should take several minutes\n"
     ]
    },
    {
     "name": "stderr",
     "output_type": "stream",
     "text": [
      "  0%|          | 0/25 [00:00<?, ?it/s]"
     ]
    },
    {
     "name": "stdout",
     "output_type": "stream",
     "text": [
      "epoch 0 done\n"
     ]
    },
    {
     "name": "stderr",
     "output_type": "stream",
     "text": [
      "  4%|▍         | 1/25 [11:22<4:32:56, 682.35s/it]"
     ]
    },
    {
     "name": "stdout",
     "output_type": "stream",
     "text": [
      "learning rate 0.002800000000000002\n",
      "The validaion  Cost for each epoch 1: 1.7389411066969236\n",
      "The validation accuracy for epoch 1: 0.7267\n",
      "epoch 1 done\n"
     ]
    },
    {
     "name": "stderr",
     "output_type": "stream",
     "text": [
      "  8%|▊         | 2/25 [22:57<4:24:21, 689.62s/it]"
     ]
    },
    {
     "name": "stdout",
     "output_type": "stream",
     "text": [
      "learning rate 0.0046\n",
      "The validaion  Cost for each epoch 2: 0.5660248870650927\n",
      "The validation accuracy for epoch 2: 0.8451\n",
      "epoch 2 done\n"
     ]
    },
    {
     "name": "stderr",
     "output_type": "stream",
     "text": [
      " 12%|█▏        | 3/25 [34:34<4:14:09, 693.14s/it]"
     ]
    },
    {
     "name": "stdout",
     "output_type": "stream",
     "text": [
      "learning rate 0.006400000000000001\n",
      "The validaion  Cost for each epoch 3: 0.35739033396045367\n",
      "The validation accuracy for epoch 3: 0.8653\n",
      "epoch 3 done\n"
     ]
    },
    {
     "name": "stderr",
     "output_type": "stream",
     "text": [
      " 16%|█▌        | 4/25 [46:15<4:03:40, 696.21s/it]"
     ]
    },
    {
     "name": "stdout",
     "output_type": "stream",
     "text": [
      "learning rate 0.008199999999999999\n",
      "The validaion  Cost for each epoch 4: 0.28974730807046095\n",
      "The validation accuracy for epoch 4: 0.8697\n",
      "epoch 4 done\n"
     ]
    },
    {
     "name": "stderr",
     "output_type": "stream",
     "text": [
      " 20%|██        | 5/25 [1:42:15<9:12:20, 1657.03s/it]"
     ]
    },
    {
     "name": "stdout",
     "output_type": "stream",
     "text": [
      "learning rate 0.010000000000000002\n",
      "The validaion  Cost for each epoch 5: 0.25251910934845606\n",
      "The validation accuracy for epoch 5: 0.8846\n",
      "epoch 5 done\n"
     ]
    },
    {
     "name": "stderr",
     "output_type": "stream",
     "text": [
      " 24%|██▍       | 6/25 [1:57:16<7:23:19, 1399.99s/it]"
     ]
    },
    {
     "name": "stdout",
     "output_type": "stream",
     "text": [
      "learning rate 0.008199999999999999\n",
      "The validaion  Cost for each epoch 6: 0.22366891739269099\n",
      "The validation accuracy for epoch 6: 0.8826\n",
      "epoch 6 done\n"
     ]
    },
    {
     "name": "stderr",
     "output_type": "stream",
     "text": [
      " 28%|██▊       | 7/25 [2:09:42<5:55:50, 1186.13s/it]"
     ]
    },
    {
     "name": "stdout",
     "output_type": "stream",
     "text": [
      "learning rate 0.006400000000000001\n",
      "The validaion  Cost for each epoch 7: 0.19029672021667163\n",
      "The validation accuracy for epoch 7: 0.8843\n",
      "epoch 7 done\n"
     ]
    },
    {
     "name": "stderr",
     "output_type": "stream",
     "text": [
      " 32%|███▏      | 8/25 [2:22:11<4:56:37, 1046.90s/it]"
     ]
    },
    {
     "name": "stdout",
     "output_type": "stream",
     "text": [
      "learning rate 0.0046\n",
      "The validaion  Cost for each epoch 8: 0.15487331661085288\n",
      "The validation accuracy for epoch 8: 0.8835\n",
      "epoch 8 done\n"
     ]
    },
    {
     "name": "stderr",
     "output_type": "stream",
     "text": [
      " 36%|███▌      | 9/25 [2:34:21<4:12:44, 947.81s/it] "
     ]
    },
    {
     "name": "stdout",
     "output_type": "stream",
     "text": [
      "learning rate 0.002800000000000002\n",
      "The validaion  Cost for each epoch 9: 0.12209109881271919\n",
      "The validation accuracy for epoch 9: 0.8877\n",
      "epoch 9 done\n"
     ]
    },
    {
     "name": "stderr",
     "output_type": "stream",
     "text": [
      " 40%|████      | 10/25 [2:47:12<3:43:19, 893.31s/it]"
     ]
    },
    {
     "name": "stdout",
     "output_type": "stream",
     "text": [
      "learning rate 0.001\n",
      "The validaion  Cost for each epoch 10: 0.08412672293682893\n",
      "The validation accuracy for epoch 10: 0.8963\n",
      "epoch 10 done\n"
     ]
    },
    {
     "name": "stderr",
     "output_type": "stream",
     "text": [
      " 44%|████▍     | 11/25 [3:00:23<3:21:04, 861.76s/it]"
     ]
    },
    {
     "name": "stdout",
     "output_type": "stream",
     "text": [
      "learning rate 0.001900000000000001\n",
      "The validaion  Cost for each epoch 11: 0.052369569630051654\n",
      "The validation accuracy for epoch 11: 0.8959\n",
      "epoch 11 done\n"
     ]
    },
    {
     "name": "stderr",
     "output_type": "stream",
     "text": [
      " 48%|████▊     | 12/25 [3:12:55<2:59:31, 828.58s/it]"
     ]
    },
    {
     "name": "stdout",
     "output_type": "stream",
     "text": [
      "learning rate 0.002800000000000002\n",
      "The validaion  Cost for each epoch 12: 0.04526156027180453\n",
      "The validation accuracy for epoch 12: 0.894\n",
      "epoch 12 done\n"
     ]
    },
    {
     "name": "stderr",
     "output_type": "stream",
     "text": [
      " 52%|█████▏    | 13/25 [3:25:30<2:41:14, 806.23s/it]"
     ]
    },
    {
     "name": "stdout",
     "output_type": "stream",
     "text": [
      "learning rate 0.003699999999999999\n",
      "The validaion  Cost for each epoch 13: 0.05403527707482378\n",
      "The validation accuracy for epoch 13: 0.8905\n",
      "epoch 13 done\n"
     ]
    },
    {
     "name": "stderr",
     "output_type": "stream",
     "text": [
      " 56%|█████▌    | 14/25 [3:38:16<2:25:35, 794.15s/it]"
     ]
    },
    {
     "name": "stdout",
     "output_type": "stream",
     "text": [
      "learning rate 0.0046\n",
      "The validaion  Cost for each epoch 14: 0.07638472790519396\n",
      "The validation accuracy for epoch 14: 0.8874\n",
      "epoch 14 done\n"
     ]
    },
    {
     "name": "stderr",
     "output_type": "stream",
     "text": [
      " 60%|██████    | 15/25 [3:50:51<2:10:23, 782.31s/it]"
     ]
    },
    {
     "name": "stdout",
     "output_type": "stream",
     "text": [
      "learning rate 0.0055000000000000005\n",
      "The validaion  Cost for each epoch 15: 0.09293010666345557\n",
      "The validation accuracy for epoch 15: 0.8834\n",
      "epoch 15 done\n"
     ]
    },
    {
     "name": "stderr",
     "output_type": "stream",
     "text": [
      " 64%|██████▍   | 16/25 [4:02:10<1:52:39, 751.10s/it]"
     ]
    },
    {
     "name": "stdout",
     "output_type": "stream",
     "text": [
      "learning rate 0.0046\n",
      "The validaion  Cost for each epoch 16: 0.08838076681519548\n",
      "The validation accuracy for epoch 16: 0.89\n",
      "epoch 16 done\n"
     ]
    },
    {
     "name": "stderr",
     "output_type": "stream",
     "text": [
      " 68%|██████▊   | 17/25 [4:13:24<1:37:04, 728.12s/it]"
     ]
    },
    {
     "name": "stdout",
     "output_type": "stream",
     "text": [
      "learning rate 0.003699999999999999\n",
      "The validaion  Cost for each epoch 17: 0.07098564437280099\n",
      "The validation accuracy for epoch 17: 0.8879\n",
      "epoch 17 done\n"
     ]
    },
    {
     "name": "stderr",
     "output_type": "stream",
     "text": [
      " 72%|███████▏  | 18/25 [4:25:07<1:24:02, 720.38s/it]"
     ]
    },
    {
     "name": "stdout",
     "output_type": "stream",
     "text": [
      "learning rate 0.002800000000000002\n",
      "The validaion  Cost for each epoch 18: 0.05316129820421338\n",
      "The validation accuracy for epoch 18: 0.8919\n",
      "epoch 18 done\n"
     ]
    },
    {
     "name": "stderr",
     "output_type": "stream",
     "text": [
      " 76%|███████▌  | 19/25 [4:37:25<1:12:35, 725.85s/it]"
     ]
    },
    {
     "name": "stdout",
     "output_type": "stream",
     "text": [
      "learning rate 0.001900000000000001\n",
      "The validaion  Cost for each epoch 19: 0.03347059735096991\n",
      "The validation accuracy for epoch 19: 0.8882\n",
      "epoch 19 done\n"
     ]
    },
    {
     "name": "stderr",
     "output_type": "stream",
     "text": [
      " 80%|████████  | 20/25 [4:49:50<1:00:57, 731.48s/it]"
     ]
    },
    {
     "name": "stdout",
     "output_type": "stream",
     "text": [
      "learning rate 0.001\n",
      "The validaion  Cost for each epoch 20: 0.01969384690746665\n",
      "The validation accuracy for epoch 20: 0.8967\n",
      "epoch 20 done\n"
     ]
    },
    {
     "name": "stderr",
     "output_type": "stream",
     "text": [
      " 84%|████████▍ | 21/25 [5:01:33<48:11, 722.93s/it]  "
     ]
    },
    {
     "name": "stdout",
     "output_type": "stream",
     "text": [
      "learning rate 0.0014500000000000006\n",
      "The validaion  Cost for each epoch 21: 0.010432205465622246\n",
      "The validation accuracy for epoch 21: 0.8977\n",
      "epoch 21 done\n"
     ]
    },
    {
     "name": "stderr",
     "output_type": "stream",
     "text": [
      " 88%|████████▊ | 22/25 [5:13:24<35:57, 719.24s/it]"
     ]
    },
    {
     "name": "stdout",
     "output_type": "stream",
     "text": [
      "learning rate 0.001900000000000001\n",
      "The validaion  Cost for each epoch 22: 0.007580066672138249\n",
      "The validation accuracy for epoch 22: 0.8979\n",
      "epoch 22 done\n"
     ]
    },
    {
     "name": "stderr",
     "output_type": "stream",
     "text": [
      " 92%|█████████▏| 23/25 [5:25:15<23:53, 716.74s/it]"
     ]
    },
    {
     "name": "stdout",
     "output_type": "stream",
     "text": [
      "learning rate 0.0023499999999999997\n",
      "The validaion  Cost for each epoch 23: 0.0076549584521368765\n",
      "The validation accuracy for epoch 23: 0.8926\n",
      "epoch 23 done\n"
     ]
    },
    {
     "name": "stderr",
     "output_type": "stream",
     "text": [
      " 96%|█████████▌| 24/25 [5:37:00<11:53, 713.34s/it]"
     ]
    },
    {
     "name": "stdout",
     "output_type": "stream",
     "text": [
      "learning rate 0.0027999999999999995\n",
      "The validaion  Cost for each epoch 24: 0.011201865472442781\n",
      "The validation accuracy for epoch 24: 0.8953\n",
      "epoch 24 done\n"
     ]
    },
    {
     "name": "stderr",
     "output_type": "stream",
     "text": [
      "100%|██████████| 25/25 [5:49:06<00:00, 837.86s/it]"
     ]
    },
    {
     "name": "stdout",
     "output_type": "stream",
     "text": [
      "learning rate 0.0032500000000000003\n",
      "The validaion  Cost for each epoch 25: 0.018516570725478233\n",
      "The validation accuracy for epoch 25: 0.8935\n",
      "elapsed time 20946.646594762802\n"
     ]
    },
    {
     "name": "stderr",
     "output_type": "stream",
     "text": [
      "\n"
     ]
    }
   ],
   "source": [
    "start_datetime = datetime.now()\n",
    "start_time=time.time()\n",
    "\n",
    "accuracy_list, loss_list, model = train_model(model, train_loader, validation_loader, criterion, optimizer, n_epochs=n_epochs)\n",
    "\n",
    "end_datetime = datetime.now()\n",
    "current_time = time.time()\n",
    "elapsed_time = current_time - start_time\n",
    "print(f\"elapsed time {elapsed_time} seconds\")"
   ]
  },
  {
   "cell_type": "markdown",
   "metadata": {},
   "source": [
    "# 4. Saving Model:\n",
    "## Saving Model Parameters and State in PyTorch\n",
    "\n",
    "1. **Defining Training Parameters:**\n",
    "  - `parameters = {...}`: Creates a dictionary to store various training parameters.\n",
    "    - `'epochs': n_epochs`: Stores the number of epochs.\n",
    "    - `'learningRate': lr`: Stores the learning rate.\n",
    "    - `'momentum': momentum`: Stores the momentum value.\n",
    "    - `'learningRatescheduler': {...}`: Stores the learning rate scheduler parameters.\n",
    "      - `\"lr_scheduler\": lr_scheduler`: Indicates if a learning rate scheduler is used.\n",
    "      - `\"base_lr\": base_lr`: Stores the base learning rate.\n",
    "      - `\"max_lr\": max_lr`: Stores the maximum learning rate.\n",
    "\n",
    "2. **Saving the Model State:**\n",
    "  - `torch.save({...}, 'FashionMNISTClassificationModel.pt')`: Saves the model and its state to a file named `FashionMNISTClassificationModel.pt`.\n",
    "    - `'epoch': n_epochs`: Saves the number of epochs.\n",
    "    - `'optimizer_state_dict': optimizer.state_dict()`: Saves the state dictionary of the optimizer.\n",
    "    - `'model': model`: Saves the model itself.\n",
    "    - `'conv1': model.conv1`: Saves the first convolutional layer of the model.\n",
    "    - `'bn1': model.bn1`: Saves the first batch normalization layer of the model.\n",
    "    - `'relu': model.relu`: Saves the ReLU activation layer of the model.\n",
    "    - `'maxpool': model.maxpool`: Saves the max pooling layer of the model.\n",
    "    - `'model_state_dict': model.state_dict()`: Saves the state dictionary of the model.\n",
    "    - `'loss': loss_list`: Saves the list of loss values.\n",
    "    - `'accuracy': accuracy_list`: Saves the list of accuracy values.\n",
    "    - `'parameters': parameters`: Saves the dictionary of training parameters.\n",
    "  - `'FashionMNISTClassificationModel.pt'`: is the PATH of the saved model"
   ]
  },
  {
   "cell_type": "code",
   "execution_count": null,
   "metadata": {},
   "outputs": [],
   "source": [
    "parameters = {\n",
    "    'epochs': n_epochs,\n",
    "    'learningRate': lr,\n",
    "    'momentum':momentum,\n",
    "    #'percentage used training':percentage_train,\n",
    "    \"learningRatescheduler\": {\"lr_scheduler\":lr_scheduler,\"base_lr\":base_lr, \"max_lr\" :max_lr}\n",
    "}"
   ]
  },
  {
   "cell_type": "code",
   "execution_count": null,
   "metadata": {},
   "outputs": [],
   "source": [
    "# Save the model to FashionMNISTClassificationModel.pt\n",
    "torch.save({\n",
    "    'epoch': n_epochs,\n",
    "    'optimizer_state_dict': optimizer.state_dict(),\n",
    "    'model': model,\n",
    "    'conv1': model.conv1,\n",
    "    'bn1': model.bn1,\n",
    "    'relu': model.relu,\n",
    "    'maxpool': model.maxpool,\n",
    "    'model_state_dict': model.state_dict(),\n",
    "    'loss': loss_list,\n",
    "    'accuracy': accuracy_list,\n",
    "    'parameters': parameters},\n",
    "    'FashionMNISTClassificationModel.pt')"
   ]
  },
  {
   "cell_type": "code",
   "execution_count": 29,
   "metadata": {},
   "outputs": [
    {
     "data": {
      "image/png": "[encoded data removed]",
      "text/plain": [
       "<Figure size 640x480 with 2 Axes>"
      ]
     },
     "metadata": {},
     "output_type": "display_data"
    }
   ],
   "source": [
    "plot_stuff(loss_list,accuracy_list)"
   ]
  },
  {
   "cell_type": "markdown",
   "metadata": {},
   "source": [
    "### Loading a Pretrained ResNet50 Model and Restoring Checkpoint\n",
    "\n",
    "1. **Loading the Pretrained Model:**\n",
    "    - `model = models.resnet50(pretrained=True)`: Loads a pretrained ResNet50 model from the `torchvision.models` module.\n",
    "\n",
    "2. **Modifying the Fully Connected Layer:**\n",
    "    - `model.fc = Model(2048, 512, n_classes)`: Replaces the fully connected layer of the ResNet50 model with a custom `Model` class instance. The custom model has an input size of 2048, a hidden size of 512, and an output size equal to the number of classes (`n_classes`).\n",
    "\n",
    "3. **Loading the Checkpoint:**\n",
    "    - `checkpoint = torch.load('FashionMNISTClassificationModel.pt')`: Loads the checkpoint from the file `FashionMNISTClassificationModel.pt`.\n",
    "\n",
    "4. **Restoring the Model State:**\n",
    "    - `model.load_state_dict(checkpoint['model_state_dict'])`: Loads the model's state dictionary from the checkpoint, restoring the model's parameters.\n",
    "\n",
    "5. **Restoring the Optimizer State:**\n",
    "    - `optimizer.load_state_dict(checkpoint['optimizer_state_dict'])`: Loads the optimizer's state dictionary from the checkpoint, restoring the optimizer's parameters.\n",
    "\n",
    "6. **Restoring Training Information:**\n",
    "    - `epoch = checkpoint['epoch']`: Restores the number of epochs from the checkpoint.\n",
    "    - `loss_list = checkpoint['loss']`: Restores the list of loss values from the checkpoint.\n",
    "    - `accuracy_list = checkpoint['accuracy']`: Restores the list of accuracy values from the checkpoint.\n",
    "    - `parameters = checkpoint['parameters']`: Restores the training parameters from the checkpoint.\n",
    "\n",
    "7. **Setting the Model to Evaluation Mode:**\n",
    "    - `model.eval()`: Sets the model to evaluation mode, which is necessary for inference and ensures that layers like dropout and batch normalization behave appropriately."
   ]
  },
  {
   "cell_type": "code",
   "execution_count": null,
   "metadata": {},
   "outputs": [
    {
     "data": {
      "text/plain": [
       "ResNet(\n",
       "  (conv1): Conv2d(3, 64, kernel_size=(7, 7), stride=(2, 2), padding=(3, 3), bias=False)\n",
       "  (bn1): BatchNorm2d(64, eps=1e-05, momentum=0.1, affine=True, track_running_stats=True)\n",
       "  (relu): ReLU(inplace=True)\n",
       "  (maxpool): MaxPool2d(kernel_size=3, stride=2, padding=1, dilation=1, ceil_mode=False)\n",
       "  (layer1): Sequential(\n",
       "    (0): Bottleneck(\n",
       "      (conv1): Conv2d(64, 64, kernel_size=(1, 1), stride=(1, 1), bias=False)\n",
       "      (bn1): BatchNorm2d(64, eps=1e-05, momentum=0.1, affine=True, track_running_stats=True)\n",
       "      (conv2): Conv2d(64, 64, kernel_size=(3, 3), stride=(1, 1), padding=(1, 1), bias=False)\n",
       "      (bn2): BatchNorm2d(64, eps=1e-05, momentum=0.1, affine=True, track_running_stats=True)\n",
       "      (conv3): Conv2d(64, 256, kernel_size=(1, 1), stride=(1, 1), bias=False)\n",
       "      (bn3): BatchNorm2d(256, eps=1e-05, momentum=0.1, affine=True, track_running_stats=True)\n",
       "      (relu): ReLU(inplace=True)\n",
       "      (downsample): Sequential(\n",
       "        (0): Conv2d(64, 256, kernel_size=(1, 1), stride=(1, 1), bias=False)\n",
       "        (1): BatchNorm2d(256, eps=1e-05, momentum=0.1, affine=True, track_running_stats=True)\n",
       "      )\n",
       "    )\n",
       "    (1): Bottleneck(\n",
       "      (conv1): Conv2d(256, 64, kernel_size=(1, 1), stride=(1, 1), bias=False)\n",
       "      (bn1): BatchNorm2d(64, eps=1e-05, momentum=0.1, affine=True, track_running_stats=True)\n",
       "      (conv2): Conv2d(64, 64, kernel_size=(3, 3), stride=(1, 1), padding=(1, 1), bias=False)\n",
       "      (bn2): BatchNorm2d(64, eps=1e-05, momentum=0.1, affine=True, track_running_stats=True)\n",
       "      (conv3): Conv2d(64, 256, kernel_size=(1, 1), stride=(1, 1), bias=False)\n",
       "      (bn3): BatchNorm2d(256, eps=1e-05, momentum=0.1, affine=True, track_running_stats=True)\n",
       "      (relu): ReLU(inplace=True)\n",
       "    )\n",
       "    (2): Bottleneck(\n",
       "      (conv1): Conv2d(256, 64, kernel_size=(1, 1), stride=(1, 1), bias=False)\n",
       "      (bn1): BatchNorm2d(64, eps=1e-05, momentum=0.1, affine=True, track_running_stats=True)\n",
       "      (conv2): Conv2d(64, 64, kernel_size=(3, 3), stride=(1, 1), padding=(1, 1), bias=False)\n",
       "      (bn2): BatchNorm2d(64, eps=1e-05, momentum=0.1, affine=True, track_running_stats=True)\n",
       "      (conv3): Conv2d(64, 256, kernel_size=(1, 1), stride=(1, 1), bias=False)\n",
       "      (bn3): BatchNorm2d(256, eps=1e-05, momentum=0.1, affine=True, track_running_stats=True)\n",
       "      (relu): ReLU(inplace=True)\n",
       "    )\n",
       "  )\n",
       "  (layer2): Sequential(\n",
       "    (0): Bottleneck(\n",
       "      (conv1): Conv2d(256, 128, kernel_size=(1, 1), stride=(1, 1), bias=False)\n",
       "      (bn1): BatchNorm2d(128, eps=1e-05, momentum=0.1, affine=True, track_running_stats=True)\n",
       "      (conv2): Conv2d(128, 128, kernel_size=(3, 3), stride=(2, 2), padding=(1, 1), bias=False)\n",
       "      (bn2): BatchNorm2d(128, eps=1e-05, momentum=0.1, affine=True, track_running_stats=True)\n",
       "      (conv3): Conv2d(128, 512, kernel_size=(1, 1), stride=(1, 1), bias=False)\n",
       "      (bn3): BatchNorm2d(512, eps=1e-05, momentum=0.1, affine=True, track_running_stats=True)\n",
       "      (relu): ReLU(inplace=True)\n",
       "      (downsample): Sequential(\n",
       "        (0): Conv2d(256, 512, kernel_size=(1, 1), stride=(2, 2), bias=False)\n",
       "        (1): BatchNorm2d(512, eps=1e-05, momentum=0.1, affine=True, track_running_stats=True)\n",
       "      )\n",
       "    )\n",
       "    (1): Bottleneck(\n",
       "      (conv1): Conv2d(512, 128, kernel_size=(1, 1), stride=(1, 1), bias=False)\n",
       "      (bn1): BatchNorm2d(128, eps=1e-05, momentum=0.1, affine=True, track_running_stats=True)\n",
       "      (conv2): Conv2d(128, 128, kernel_size=(3, 3), stride=(1, 1), padding=(1, 1), bias=False)\n",
       "      (bn2): BatchNorm2d(128, eps=1e-05, momentum=0.1, affine=True, track_running_stats=True)\n",
       "      (conv3): Conv2d(128, 512, kernel_size=(1, 1), stride=(1, 1), bias=False)\n",
       "      (bn3): BatchNorm2d(512, eps=1e-05, momentum=0.1, affine=True, track_running_stats=True)\n",
       "      (relu): ReLU(inplace=True)\n",
       "    )\n",
       "    (2): Bottleneck(\n",
       "      (conv1): Conv2d(512, 128, kernel_size=(1, 1), stride=(1, 1), bias=False)\n",
       "      (bn1): BatchNorm2d(128, eps=1e-05, momentum=0.1, affine=True, track_running_stats=True)\n",
       "      (conv2): Conv2d(128, 128, kernel_size=(3, 3), stride=(1, 1), padding=(1, 1), bias=False)\n",
       "      (bn2): BatchNorm2d(128, eps=1e-05, momentum=0.1, affine=True, track_running_stats=True)\n",
       "      (conv3): Conv2d(128, 512, kernel_size=(1, 1), stride=(1, 1), bias=False)\n",
       "      (bn3): BatchNorm2d(512, eps=1e-05, momentum=0.1, affine=True, track_running_stats=True)\n",
       "      (relu): ReLU(inplace=True)\n",
       "    )\n",
       "    (3): Bottleneck(\n",
       "      (conv1): Conv2d(512, 128, kernel_size=(1, 1), stride=(1, 1), bias=False)\n",
       "      (bn1): BatchNorm2d(128, eps=1e-05, momentum=0.1, affine=True, track_running_stats=True)\n",
       "      (conv2): Conv2d(128, 128, kernel_size=(3, 3), stride=(1, 1), padding=(1, 1), bias=False)\n",
       "      (bn2): BatchNorm2d(128, eps=1e-05, momentum=0.1, affine=True, track_running_stats=True)\n",
       "      (conv3): Conv2d(128, 512, kernel_size=(1, 1), stride=(1, 1), bias=False)\n",
       "      (bn3): BatchNorm2d(512, eps=1e-05, momentum=0.1, affine=True, track_running_stats=True)\n",
       "      (relu): ReLU(inplace=True)\n",
       "    )\n",
       "  )\n",
       "  (layer3): Sequential(\n",
       "    (0): Bottleneck(\n",
       "      (conv1): Conv2d(512, 256, kernel_size=(1, 1), stride=(1, 1), bias=False)\n",
       "      (bn1): BatchNorm2d(256, eps=1e-05, momentum=0.1, affine=True, track_running_stats=True)\n",
       "      (conv2): Conv2d(256, 256, kernel_size=(3, 3), stride=(2, 2), padding=(1, 1), bias=False)\n",
       "      (bn2): BatchNorm2d(256, eps=1e-05, momentum=0.1, affine=True, track_running_stats=True)\n",
       "      (conv3): Conv2d(256, 1024, kernel_size=(1, 1), stride=(1, 1), bias=False)\n",
       "      (bn3): BatchNorm2d(1024, eps=1e-05, momentum=0.1, affine=True, track_running_stats=True)\n",
       "      (relu): ReLU(inplace=True)\n",
       "      (downsample): Sequential(\n",
       "        (0): Conv2d(512, 1024, kernel_size=(1, 1), stride=(2, 2), bias=False)\n",
       "        (1): BatchNorm2d(1024, eps=1e-05, momentum=0.1, affine=True, track_running_stats=True)\n",
       "      )\n",
       "    )\n",
       "    (1): Bottleneck(\n",
       "      (conv1): Conv2d(1024, 256, kernel_size=(1, 1), stride=(1, 1), bias=False)\n",
       "      (bn1): BatchNorm2d(256, eps=1e-05, momentum=0.1, affine=True, track_running_stats=True)\n",
       "      (conv2): Conv2d(256, 256, kernel_size=(3, 3), stride=(1, 1), padding=(1, 1), bias=False)\n",
       "      (bn2): BatchNorm2d(256, eps=1e-05, momentum=0.1, affine=True, track_running_stats=True)\n",
       "      (conv3): Conv2d(256, 1024, kernel_size=(1, 1), stride=(1, 1), bias=False)\n",
       "      (bn3): BatchNorm2d(1024, eps=1e-05, momentum=0.1, affine=True, track_running_stats=True)\n",
       "      (relu): ReLU(inplace=True)\n",
       "    )\n",
       "    (2): Bottleneck(\n",
       "      (conv1): Conv2d(1024, 256, kernel_size=(1, 1), stride=(1, 1), bias=False)\n",
       "      (bn1): BatchNorm2d(256, eps=1e-05, momentum=0.1, affine=True, track_running_stats=True)\n",
       "      (conv2): Conv2d(256, 256, kernel_size=(3, 3), stride=(1, 1), padding=(1, 1), bias=False)\n",
       "      (bn2): BatchNorm2d(256, eps=1e-05, momentum=0.1, affine=True, track_running_stats=True)\n",
       "      (conv3): Conv2d(256, 1024, kernel_size=(1, 1), stride=(1, 1), bias=False)\n",
       "      (bn3): BatchNorm2d(1024, eps=1e-05, momentum=0.1, affine=True, track_running_stats=True)\n",
       "      (relu): ReLU(inplace=True)\n",
       "    )\n",
       "    (3): Bottleneck(\n",
       "      (conv1): Conv2d(1024, 256, kernel_size=(1, 1), stride=(1, 1), bias=False)\n",
       "      (bn1): BatchNorm2d(256, eps=1e-05, momentum=0.1, affine=True, track_running_stats=True)\n",
       "      (conv2): Conv2d(256, 256, kernel_size=(3, 3), stride=(1, 1), padding=(1, 1), bias=False)\n",
       "      (bn2): BatchNorm2d(256, eps=1e-05, momentum=0.1, affine=True, track_running_stats=True)\n",
       "      (conv3): Conv2d(256, 1024, kernel_size=(1, 1), stride=(1, 1), bias=False)\n",
       "      (bn3): BatchNorm2d(1024, eps=1e-05, momentum=0.1, affine=True, track_running_stats=True)\n",
       "      (relu): ReLU(inplace=True)\n",
       "    )\n",
       "    (4): Bottleneck(\n",
       "      (conv1): Conv2d(1024, 256, kernel_size=(1, 1), stride=(1, 1), bias=False)\n",
       "      (bn1): BatchNorm2d(256, eps=1e-05, momentum=0.1, affine=True, track_running_stats=True)\n",
       "      (conv2): Conv2d(256, 256, kernel_size=(3, 3), stride=(1, 1), padding=(1, 1), bias=False)\n",
       "      (bn2): BatchNorm2d(256, eps=1e-05, momentum=0.1, affine=True, track_running_stats=True)\n",
       "      (conv3): Conv2d(256, 1024, kernel_size=(1, 1), stride=(1, 1), bias=False)\n",
       "      (bn3): BatchNorm2d(1024, eps=1e-05, momentum=0.1, affine=True, track_running_stats=True)\n",
       "      (relu): ReLU(inplace=True)\n",
       "    )\n",
       "    (5): Bottleneck(\n",
       "      (conv1): Conv2d(1024, 256, kernel_size=(1, 1), stride=(1, 1), bias=False)\n",
       "      (bn1): BatchNorm2d(256, eps=1e-05, momentum=0.1, affine=True, track_running_stats=True)\n",
       "      (conv2): Conv2d(256, 256, kernel_size=(3, 3), stride=(1, 1), padding=(1, 1), bias=False)\n",
       "      (bn2): BatchNorm2d(256, eps=1e-05, momentum=0.1, affine=True, track_running_stats=True)\n",
       "      (conv3): Conv2d(256, 1024, kernel_size=(1, 1), stride=(1, 1), bias=False)\n",
       "      (bn3): BatchNorm2d(1024, eps=1e-05, momentum=0.1, affine=True, track_running_stats=True)\n",
       "      (relu): ReLU(inplace=True)\n",
       "    )\n",
       "  )\n",
       "  (layer4): Sequential(\n",
       "    (0): Bottleneck(\n",
       "      (conv1): Conv2d(1024, 512, kernel_size=(1, 1), stride=(1, 1), bias=False)\n",
       "      (bn1): BatchNorm2d(512, eps=1e-05, momentum=0.1, affine=True, track_running_stats=True)\n",
       "      (conv2): Conv2d(512, 512, kernel_size=(3, 3), stride=(2, 2), padding=(1, 1), bias=False)\n",
       "      (bn2): BatchNorm2d(512, eps=1e-05, momentum=0.1, affine=True, track_running_stats=True)\n",
       "      (conv3): Conv2d(512, 2048, kernel_size=(1, 1), stride=(1, 1), bias=False)\n",
       "      (bn3): BatchNorm2d(2048, eps=1e-05, momentum=0.1, affine=True, track_running_stats=True)\n",
       "      (relu): ReLU(inplace=True)\n",
       "      (downsample): Sequential(\n",
       "        (0): Conv2d(1024, 2048, kernel_size=(1, 1), stride=(2, 2), bias=False)\n",
       "        (1): BatchNorm2d(2048, eps=1e-05, momentum=0.1, affine=True, track_running_stats=True)\n",
       "      )\n",
       "    )\n",
       "    (1): Bottleneck(\n",
       "      (conv1): Conv2d(2048, 512, kernel_size=(1, 1), stride=(1, 1), bias=False)\n",
       "      (bn1): BatchNorm2d(512, eps=1e-05, momentum=0.1, affine=True, track_running_stats=True)\n",
       "      (conv2): Conv2d(512, 512, kernel_size=(3, 3), stride=(1, 1), padding=(1, 1), bias=False)\n",
       "      (bn2): BatchNorm2d(512, eps=1e-05, momentum=0.1, affine=True, track_running_stats=True)\n",
       "      (conv3): Conv2d(512, 2048, kernel_size=(1, 1), stride=(1, 1), bias=False)\n",
       "      (bn3): BatchNorm2d(2048, eps=1e-05, momentum=0.1, affine=True, track_running_stats=True)\n",
       "      (relu): ReLU(inplace=True)\n",
       "    )\n",
       "    (2): Bottleneck(\n",
       "      (conv1): Conv2d(2048, 512, kernel_size=(1, 1), stride=(1, 1), bias=False)\n",
       "      (bn1): BatchNorm2d(512, eps=1e-05, momentum=0.1, affine=True, track_running_stats=True)\n",
       "      (conv2): Conv2d(512, 512, kernel_size=(3, 3), stride=(1, 1), padding=(1, 1), bias=False)\n",
       "      (bn2): BatchNorm2d(512, eps=1e-05, momentum=0.1, affine=True, track_running_stats=True)\n",
       "      (conv3): Conv2d(512, 2048, kernel_size=(1, 1), stride=(1, 1), bias=False)\n",
       "      (bn3): BatchNorm2d(2048, eps=1e-05, momentum=0.1, affine=True, track_running_stats=True)\n",
       "      (relu): ReLU(inplace=True)\n",
       "    )\n",
       "  )\n",
       "  (avgpool): AdaptiveAvgPool2d(output_size=(1, 1))\n",
       "  (fc): Model(\n",
       "    (fc1): Linear(in_features=2048, out_features=512, bias=True)\n",
       "    (fc2): Linear(in_features=512, out_features=10, bias=True)\n",
       "  )\n",
       ")"
      ]
     },
     "execution_count": 32,
     "metadata": {},
     "output_type": "execute_result"
    }
   ],
   "source": [
    "model = models.resnet50(pretrained=True)\n",
    "model.fc = Model(2048, 512, n_classes)\n",
    "checkpoint = torch.load('FashionMNISTClassificationModel.pt') \n",
    "model.load_state_dict(checkpoint['model_state_dict'])\n",
    "optimizer.load_state_dict(checkpoint['optimizer_state_dict'])\n",
    "epoch = checkpoint['epoch']\n",
    "loss_list = checkpoint['loss']\n",
    "accuracy_list = checkpoint['accuracy']\n",
    "parameters = checkpoint['parameters']\n",
    "model.eval()"
   ]
  },
  {
   "cell_type": "code",
   "execution_count": null,
   "metadata": {},
   "outputs": [],
   "source": []
  }
 ],
 "metadata": {
  "kernelspec": {
   "display_name": "Python 3",
   "language": "python",
   "name": "python3"
  },
  "language_info": {
   "codemirror_mode": {
    "name": "ipython",
    "version": 3
   },
   "file_extension": ".py",
   "mimetype": "text/x-python",
   "name": "python",
   "nbconvert_exporter": "python",
   "pygments_lexer": "ipython3",
   "version": "3.11.1"
  }
 },
 "nbformat": 4,
 "nbformat_minor": 2
}
